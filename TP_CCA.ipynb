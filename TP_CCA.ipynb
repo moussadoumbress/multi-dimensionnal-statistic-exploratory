{
 "cells": [
  {
   "cell_type": "markdown",
   "id": "c5dd4cda",
   "metadata": {},
   "source": [
    "# Analyse de Corrélation Canonique "
   ]
  },
  {
   "cell_type": "markdown",
   "id": "a42ac2f4",
   "metadata": {},
   "source": [
    "Pour commencer, importer Pandas, Matplotlib, numpy et Seaborn."
   ]
  },
  {
   "cell_type": "code",
   "execution_count": 15,
   "id": "aa24180c",
   "metadata": {},
   "outputs": [],
   "source": [
    "import pandas as pd\n",
    "import matplotlib.pyplot as plt\n",
    "import seaborn as sns\n",
    "import numpy as np"
   ]
  },
  {
   "cell_type": "markdown",
   "id": "5f82c919",
   "metadata": {},
   "source": [
    "Charger Palmer Penguin datasets et supprimer les données avec des valeurs manquantes.\n",
    "\n",
    "Documentation : https://allisonhorst.github.io/palmerpenguins/"
   ]
  },
  {
   "cell_type": "code",
   "execution_count": 16,
   "id": "e3462536",
   "metadata": {},
   "outputs": [],
   "source": [
    "link2data = \"https://raw.githubusercontent.com/mwaskom/seaborn-data/master/penguins.csv\"\n",
    "df = pd.read_csv(link2data)"
   ]
  },
  {
   "cell_type": "code",
   "execution_count": 17,
   "id": "c9ee522a",
   "metadata": {},
   "outputs": [
    {
     "data": {
      "text/html": [
       "<div>\n",
       "<style scoped>\n",
       "    .dataframe tbody tr th:only-of-type {\n",
       "        vertical-align: middle;\n",
       "    }\n",
       "\n",
       "    .dataframe tbody tr th {\n",
       "        vertical-align: top;\n",
       "    }\n",
       "\n",
       "    .dataframe thead th {\n",
       "        text-align: right;\n",
       "    }\n",
       "</style>\n",
       "<table border=\"1\" class=\"dataframe\">\n",
       "  <thead>\n",
       "    <tr style=\"text-align: right;\">\n",
       "      <th></th>\n",
       "      <th>species</th>\n",
       "      <th>island</th>\n",
       "      <th>bill_length_mm</th>\n",
       "      <th>bill_depth_mm</th>\n",
       "      <th>flipper_length_mm</th>\n",
       "      <th>body_mass_g</th>\n",
       "      <th>sex</th>\n",
       "    </tr>\n",
       "  </thead>\n",
       "  <tbody>\n",
       "    <tr>\n",
       "      <th>0</th>\n",
       "      <td>Adelie</td>\n",
       "      <td>Torgersen</td>\n",
       "      <td>39.1</td>\n",
       "      <td>18.7</td>\n",
       "      <td>181.0</td>\n",
       "      <td>3750.0</td>\n",
       "      <td>MALE</td>\n",
       "    </tr>\n",
       "    <tr>\n",
       "      <th>1</th>\n",
       "      <td>Adelie</td>\n",
       "      <td>Torgersen</td>\n",
       "      <td>39.5</td>\n",
       "      <td>17.4</td>\n",
       "      <td>186.0</td>\n",
       "      <td>3800.0</td>\n",
       "      <td>FEMALE</td>\n",
       "    </tr>\n",
       "    <tr>\n",
       "      <th>2</th>\n",
       "      <td>Adelie</td>\n",
       "      <td>Torgersen</td>\n",
       "      <td>40.3</td>\n",
       "      <td>18.0</td>\n",
       "      <td>195.0</td>\n",
       "      <td>3250.0</td>\n",
       "      <td>FEMALE</td>\n",
       "    </tr>\n",
       "    <tr>\n",
       "      <th>4</th>\n",
       "      <td>Adelie</td>\n",
       "      <td>Torgersen</td>\n",
       "      <td>36.7</td>\n",
       "      <td>19.3</td>\n",
       "      <td>193.0</td>\n",
       "      <td>3450.0</td>\n",
       "      <td>FEMALE</td>\n",
       "    </tr>\n",
       "    <tr>\n",
       "      <th>5</th>\n",
       "      <td>Adelie</td>\n",
       "      <td>Torgersen</td>\n",
       "      <td>39.3</td>\n",
       "      <td>20.6</td>\n",
       "      <td>190.0</td>\n",
       "      <td>3650.0</td>\n",
       "      <td>MALE</td>\n",
       "    </tr>\n",
       "    <tr>\n",
       "      <th>...</th>\n",
       "      <td>...</td>\n",
       "      <td>...</td>\n",
       "      <td>...</td>\n",
       "      <td>...</td>\n",
       "      <td>...</td>\n",
       "      <td>...</td>\n",
       "      <td>...</td>\n",
       "    </tr>\n",
       "    <tr>\n",
       "      <th>338</th>\n",
       "      <td>Gentoo</td>\n",
       "      <td>Biscoe</td>\n",
       "      <td>47.2</td>\n",
       "      <td>13.7</td>\n",
       "      <td>214.0</td>\n",
       "      <td>4925.0</td>\n",
       "      <td>FEMALE</td>\n",
       "    </tr>\n",
       "    <tr>\n",
       "      <th>340</th>\n",
       "      <td>Gentoo</td>\n",
       "      <td>Biscoe</td>\n",
       "      <td>46.8</td>\n",
       "      <td>14.3</td>\n",
       "      <td>215.0</td>\n",
       "      <td>4850.0</td>\n",
       "      <td>FEMALE</td>\n",
       "    </tr>\n",
       "    <tr>\n",
       "      <th>341</th>\n",
       "      <td>Gentoo</td>\n",
       "      <td>Biscoe</td>\n",
       "      <td>50.4</td>\n",
       "      <td>15.7</td>\n",
       "      <td>222.0</td>\n",
       "      <td>5750.0</td>\n",
       "      <td>MALE</td>\n",
       "    </tr>\n",
       "    <tr>\n",
       "      <th>342</th>\n",
       "      <td>Gentoo</td>\n",
       "      <td>Biscoe</td>\n",
       "      <td>45.2</td>\n",
       "      <td>14.8</td>\n",
       "      <td>212.0</td>\n",
       "      <td>5200.0</td>\n",
       "      <td>FEMALE</td>\n",
       "    </tr>\n",
       "    <tr>\n",
       "      <th>343</th>\n",
       "      <td>Gentoo</td>\n",
       "      <td>Biscoe</td>\n",
       "      <td>49.9</td>\n",
       "      <td>16.1</td>\n",
       "      <td>213.0</td>\n",
       "      <td>5400.0</td>\n",
       "      <td>MALE</td>\n",
       "    </tr>\n",
       "  </tbody>\n",
       "</table>\n",
       "<p>333 rows × 7 columns</p>\n",
       "</div>"
      ],
      "text/plain": [
       "    species     island  bill_length_mm  bill_depth_mm  flipper_length_mm  \\\n",
       "0    Adelie  Torgersen            39.1           18.7              181.0   \n",
       "1    Adelie  Torgersen            39.5           17.4              186.0   \n",
       "2    Adelie  Torgersen            40.3           18.0              195.0   \n",
       "4    Adelie  Torgersen            36.7           19.3              193.0   \n",
       "5    Adelie  Torgersen            39.3           20.6              190.0   \n",
       "..      ...        ...             ...            ...                ...   \n",
       "338  Gentoo     Biscoe            47.2           13.7              214.0   \n",
       "340  Gentoo     Biscoe            46.8           14.3              215.0   \n",
       "341  Gentoo     Biscoe            50.4           15.7              222.0   \n",
       "342  Gentoo     Biscoe            45.2           14.8              212.0   \n",
       "343  Gentoo     Biscoe            49.9           16.1              213.0   \n",
       "\n",
       "     body_mass_g     sex  \n",
       "0         3750.0    MALE  \n",
       "1         3800.0  FEMALE  \n",
       "2         3250.0  FEMALE  \n",
       "4         3450.0  FEMALE  \n",
       "5         3650.0    MALE  \n",
       "..           ...     ...  \n",
       "338       4925.0  FEMALE  \n",
       "340       4850.0  FEMALE  \n",
       "341       5750.0    MALE  \n",
       "342       5200.0  FEMALE  \n",
       "343       5400.0    MALE  \n",
       "\n",
       "[333 rows x 7 columns]"
      ]
     },
     "execution_count": 17,
     "metadata": {},
     "output_type": "execute_result"
    }
   ],
   "source": [
    "df.dropna(inplace=True)\n",
    "df"
   ]
  },
  {
   "cell_type": "code",
   "execution_count": 18,
   "id": "1fbf0bc0",
   "metadata": {},
   "outputs": [
    {
     "data": {
      "text/plain": [
       "array([0, 0, 0, 0, 0, 0, 0, 0, 0, 0, 0, 0, 0, 0, 0, 0, 0, 0, 0, 0, 0, 0,\n",
       "       0, 0, 0, 0, 0, 0, 0, 0, 0, 0, 0, 0, 0, 0, 0, 0, 0, 0, 0, 0, 0, 0,\n",
       "       0, 0, 0, 0, 0, 0, 0, 0, 0, 0, 0, 0, 0, 0, 0, 0, 0, 0, 0, 0, 0, 0,\n",
       "       0, 0, 0, 0, 0, 0, 0, 0, 0, 0, 0, 0, 0, 0, 0, 0, 0, 0, 0, 0, 0, 0,\n",
       "       0, 0, 0, 0, 0, 0, 0, 0, 0, 0, 0, 0, 0, 0, 0, 0, 0, 0, 0, 0, 0, 0,\n",
       "       0, 0, 0, 0, 0, 0, 0, 0, 0, 0, 0, 0, 0, 0, 0, 0, 0, 0, 0, 0, 0, 0,\n",
       "       0, 0, 0, 0, 0, 0, 0, 0, 0, 0, 0, 0, 0, 0, 1, 1, 1, 1, 1, 1, 1, 1,\n",
       "       1, 1, 1, 1, 1, 1, 1, 1, 1, 1, 1, 1, 1, 1, 1, 1, 1, 1, 1, 1, 1, 1,\n",
       "       1, 1, 1, 1, 1, 1, 1, 1, 1, 1, 1, 1, 1, 1, 1, 1, 1, 1, 1, 1, 1, 1,\n",
       "       1, 1, 1, 1, 1, 1, 1, 1, 1, 1, 1, 1, 1, 1, 1, 1, 2, 2, 2, 2, 2, 2,\n",
       "       2, 2, 2, 2, 2, 2, 2, 2, 2, 2, 2, 2, 2, 2, 2, 2, 2, 2, 2, 2, 2, 2,\n",
       "       2, 2, 2, 2, 2, 2, 2, 2, 2, 2, 2, 2, 2, 2, 2, 2, 2, 2, 2, 2, 2, 2,\n",
       "       2, 2, 2, 2, 2, 2, 2, 2, 2, 2, 2, 2, 2, 2, 2, 2, 2, 2, 2, 2, 2, 2,\n",
       "       2, 2, 2, 2, 2, 2, 2, 2, 2, 2, 2, 2, 2, 2, 2, 2, 2, 2, 2, 2, 2, 2,\n",
       "       2, 2, 2, 2, 2, 2, 2, 2, 2, 2, 2, 2, 2, 2, 2, 2, 2, 2, 2, 2, 2, 2,\n",
       "       2, 2, 2])"
      ]
     },
     "execution_count": 18,
     "metadata": {},
     "output_type": "execute_result"
    }
   ],
   "source": [
    "#code={'Adelie':0,'Chinstrap':1,'Gentoo':2}\n",
    "#df['species']=df['species'].map(code)\n",
    "y=df['species'].factorize()[0]\n",
    "df\n",
    "y\n"
   ]
  },
  {
   "cell_type": "markdown",
   "id": "0417df36",
   "metadata": {},
   "source": [
    "Étant donné que l'analyse de corrélation canonique implique deux ensembles de données, diviser les données en deux sous-ensembles X et Y. Le sous-ensemble de données X comporte deux variables correspondant à la longueur et la profondeur du bec. Le deuxième sous-ensemble de données Y contient la longueur des nageoires et le poids du corps."
   ]
  },
  {
   "cell_type": "code",
   "execution_count": 19,
   "id": "2797aa45",
   "metadata": {},
   "outputs": [],
   "source": [
    "df['flipper_length_mm']=df['flipper_length_mm'].astype(float)\n",
    "X=df[['bill_length_mm','bill_depth_mm']]\n",
    "Y=df[['flipper_length_mm','body_mass_g']]\n"
   ]
  },
  {
   "cell_type": "code",
   "execution_count": 20,
   "id": "3aae12ee",
   "metadata": {},
   "outputs": [],
   "source": [
    "from sklearn.preprocessing import StandardScaler\n",
    "scaler=StandardScaler()"
   ]
  },
  {
   "cell_type": "markdown",
   "id": "50ff60f5",
   "metadata": {},
   "source": [
    "Normaliser les deux sous-ensembles X et Y"
   ]
  },
  {
   "cell_type": "code",
   "execution_count": 21,
   "id": "6e5ff227",
   "metadata": {},
   "outputs": [],
   "source": [
    "X=scaler.fit_transform(X)\n",
    "Y=scaler.fit_transform(Y)"
   ]
  },
  {
   "cell_type": "code",
   "execution_count": 8,
   "id": "e3350d77",
   "metadata": {},
   "outputs": [
    {
     "data": {
      "text/plain": [
       "array([], dtype=float64)"
      ]
     },
     "execution_count": 8,
     "metadata": {},
     "output_type": "execute_result"
    }
   ],
   "source": [
    "Y[Y==np.nan]\n",
    "X[X==np.nan]"
   ]
  },
  {
   "cell_type": "markdown",
   "id": "5f06e488",
   "metadata": {},
   "source": [
    "Nous avons maintenant deux ensembles de données provenant des mêmes pingouins. Comme nous le savons, les caractéristiques d'un pingouin diffèrent fortement d'un autre en fonction de son espèce. Et dans notre exemple, l'espèce est une variable latente qui est commune aux deux ensembles de données X et Y.\n",
    "\n",
    "Pour effectuer une ACC en Python, nous utiliserons le module CCA de sklearn.cross_decomposition.\n",
    "\n",
    "Documentation: https://scikit-learn.org/stable/modules/generated/sklearn.cross_decomposition.CCA.html"
   ]
  },
  {
   "cell_type": "markdown",
   "id": "c2bf539b",
   "metadata": {},
   "source": [
    "Importer le module CCA"
   ]
  },
  {
   "cell_type": "code",
   "execution_count": 22,
   "id": "9d5b1f07",
   "metadata": {},
   "outputs": [],
   "source": [
    "from sklearn.cross_decomposition import CCA"
   ]
  },
  {
   "cell_type": "markdown",
   "id": "b4a255e9",
   "metadata": {},
   "source": [
    "Instancier un objet CCA et utiliser les fonctions fit() et transform() avec les deux matrices standardisées pour effectuer l'ACC."
   ]
  },
  {
   "cell_type": "code",
   "execution_count": 23,
   "id": "5913488a",
   "metadata": {},
   "outputs": [],
   "source": [
    "my_cca=CCA().fit(X,Y)\n",
    "X_c,Y_c=my_cca.transform(X,Y)\n",
    "\n"
   ]
  },
  {
   "cell_type": "markdown",
   "id": "bb4496eb",
   "metadata": {},
   "source": [
    "Affiche la taille des deux matrices de corrélation canonique."
   ]
  },
  {
   "cell_type": "code",
   "execution_count": 11,
   "id": "6719c886",
   "metadata": {},
   "outputs": [
    {
     "data": {
      "text/plain": [
       "(333, 2)"
      ]
     },
     "execution_count": 11,
     "metadata": {},
     "output_type": "execute_result"
    }
   ],
   "source": [
    "X_c.shape\n",
    "Y_c.shape"
   ]
  },
  {
   "cell_type": "markdown",
   "id": "354bc467",
   "metadata": {},
   "source": [
    "Creusons davantage pour comprendre les résultats de l'analyse de corrélation canonique et en avoir une intuition. Dans un premier temps, nous allons utiliser la paire de covariables canoniques et voir comment elles sont corrélées entre elles."
   ]
  },
  {
   "cell_type": "markdown",
   "id": "cb95852f",
   "metadata": {},
   "source": [
    "Combiner les résultats de l'ACC avec les métadonnées (Species,Island,sex) correspondant aux données des pingouins en utilisant Pandas."
   ]
  },
  {
   "cell_type": "code",
   "execution_count": 24,
   "id": "1bffac13",
   "metadata": {},
   "outputs": [
    {
     "name": "stderr",
     "output_type": "stream",
     "text": [
      "/tmp/ipykernel_3579/1041402290.py:2: SettingWithCopyWarning: \n",
      "A value is trying to be set on a copy of a slice from a DataFrame.\n",
      "Try using .loc[row_indexer,col_indexer] = value instead\n",
      "\n",
      "See the caveats in the documentation: https://pandas.pydata.org/pandas-docs/stable/user_guide/indexing.html#returning-a-view-versus-a-copy\n",
      "  combined['Xc0']=X_c[:,0]\n",
      "/tmp/ipykernel_3579/1041402290.py:3: SettingWithCopyWarning: \n",
      "A value is trying to be set on a copy of a slice from a DataFrame.\n",
      "Try using .loc[row_indexer,col_indexer] = value instead\n",
      "\n",
      "See the caveats in the documentation: https://pandas.pydata.org/pandas-docs/stable/user_guide/indexing.html#returning-a-view-versus-a-copy\n",
      "  combined['Xc1']=X_c[:,1]\n",
      "/tmp/ipykernel_3579/1041402290.py:4: SettingWithCopyWarning: \n",
      "A value is trying to be set on a copy of a slice from a DataFrame.\n",
      "Try using .loc[row_indexer,col_indexer] = value instead\n",
      "\n",
      "See the caveats in the documentation: https://pandas.pydata.org/pandas-docs/stable/user_guide/indexing.html#returning-a-view-versus-a-copy\n",
      "  combined['Yc0']=Y_c[:,0]\n"
     ]
    },
    {
     "data": {
      "text/html": [
       "<div>\n",
       "<style scoped>\n",
       "    .dataframe tbody tr th:only-of-type {\n",
       "        vertical-align: middle;\n",
       "    }\n",
       "\n",
       "    .dataframe tbody tr th {\n",
       "        vertical-align: top;\n",
       "    }\n",
       "\n",
       "    .dataframe thead th {\n",
       "        text-align: right;\n",
       "    }\n",
       "</style>\n",
       "<table border=\"1\" class=\"dataframe\">\n",
       "  <thead>\n",
       "    <tr style=\"text-align: right;\">\n",
       "      <th></th>\n",
       "      <th>species</th>\n",
       "      <th>island</th>\n",
       "      <th>sex</th>\n",
       "      <th>Xc0</th>\n",
       "      <th>Xc1</th>\n",
       "      <th>Yc0</th>\n",
       "      <th>Yc1</th>\n",
       "    </tr>\n",
       "  </thead>\n",
       "  <tbody>\n",
       "    <tr>\n",
       "      <th>0</th>\n",
       "      <td>Adelie</td>\n",
       "      <td>Torgersen</td>\n",
       "      <td>MALE</td>\n",
       "      <td>-1.186252</td>\n",
       "      <td>-0.010367</td>\n",
       "      <td>-1.408795</td>\n",
       "      <td>0.682866</td>\n",
       "    </tr>\n",
       "    <tr>\n",
       "      <th>1</th>\n",
       "      <td>Adelie</td>\n",
       "      <td>Torgersen</td>\n",
       "      <td>FEMALE</td>\n",
       "      <td>-0.709573</td>\n",
       "      <td>-0.456036</td>\n",
       "      <td>-1.053857</td>\n",
       "      <td>0.429879</td>\n",
       "    </tr>\n",
       "    <tr>\n",
       "      <th>2</th>\n",
       "      <td>Adelie</td>\n",
       "      <td>Torgersen</td>\n",
       "      <td>FEMALE</td>\n",
       "      <td>-0.790732</td>\n",
       "      <td>-0.130809</td>\n",
       "      <td>-0.393550</td>\n",
       "      <td>-0.839620</td>\n",
       "    </tr>\n",
       "    <tr>\n",
       "      <th>4</th>\n",
       "      <td>Adelie</td>\n",
       "      <td>Torgersen</td>\n",
       "      <td>FEMALE</td>\n",
       "      <td>-1.718663</td>\n",
       "      <td>-0.073623</td>\n",
       "      <td>-0.542888</td>\n",
       "      <td>-0.458571</td>\n",
       "    </tr>\n",
       "    <tr>\n",
       "      <th>5</th>\n",
       "      <td>Adelie</td>\n",
       "      <td>Torgersen</td>\n",
       "      <td>MALE</td>\n",
       "      <td>-1.772295</td>\n",
       "      <td>0.736248</td>\n",
       "      <td>-0.763548</td>\n",
       "      <td>-0.014204</td>\n",
       "    </tr>\n",
       "    <tr>\n",
       "      <th>...</th>\n",
       "      <td>...</td>\n",
       "      <td>...</td>\n",
       "      <td>...</td>\n",
       "      <td>...</td>\n",
       "      <td>...</td>\n",
       "      <td>...</td>\n",
       "      <td>...</td>\n",
       "    </tr>\n",
       "    <tr>\n",
       "      <th>338</th>\n",
       "      <td>Gentoo</td>\n",
       "      <td>Biscoe</td>\n",
       "      <td>FEMALE</td>\n",
       "      <td>1.572414</td>\n",
       "      <td>-0.927902</td>\n",
       "      <td>0.905520</td>\n",
       "      <td>0.088041</td>\n",
       "    </tr>\n",
       "    <tr>\n",
       "      <th>340</th>\n",
       "      <td>Gentoo</td>\n",
       "      <td>Biscoe</td>\n",
       "      <td>FEMALE</td>\n",
       "      <td>1.322035</td>\n",
       "      <td>-0.748356</td>\n",
       "      <td>0.979352</td>\n",
       "      <td>-0.070682</td>\n",
       "    </tr>\n",
       "    <tr>\n",
       "      <th>341</th>\n",
       "      <td>Gentoo</td>\n",
       "      <td>Biscoe</td>\n",
       "      <td>MALE</td>\n",
       "      <td>1.377092</td>\n",
       "      <td>0.220933</td>\n",
       "      <td>1.448490</td>\n",
       "      <td>0.630948</td>\n",
       "    </tr>\n",
       "    <tr>\n",
       "      <th>342</th>\n",
       "      <td>Gentoo</td>\n",
       "      <td>Biscoe</td>\n",
       "      <td>FEMALE</td>\n",
       "      <td>0.934766</td>\n",
       "      <td>-0.752510</td>\n",
       "      <td>0.753673</td>\n",
       "      <td>0.564495</td>\n",
       "    </tr>\n",
       "    <tr>\n",
       "      <th>343</th>\n",
       "      <td>Gentoo</td>\n",
       "      <td>Biscoe</td>\n",
       "      <td>MALE</td>\n",
       "      <td>1.177269</td>\n",
       "      <td>0.312303</td>\n",
       "      <td>0.818302</td>\n",
       "      <td>0.755590</td>\n",
       "    </tr>\n",
       "  </tbody>\n",
       "</table>\n",
       "<p>333 rows × 7 columns</p>\n",
       "</div>"
      ],
      "text/plain": [
       "    species     island     sex       Xc0       Xc1       Yc0       Yc1\n",
       "0    Adelie  Torgersen    MALE -1.186252 -0.010367 -1.408795  0.682866\n",
       "1    Adelie  Torgersen  FEMALE -0.709573 -0.456036 -1.053857  0.429879\n",
       "2    Adelie  Torgersen  FEMALE -0.790732 -0.130809 -0.393550 -0.839620\n",
       "4    Adelie  Torgersen  FEMALE -1.718663 -0.073623 -0.542888 -0.458571\n",
       "5    Adelie  Torgersen    MALE -1.772295  0.736248 -0.763548 -0.014204\n",
       "..      ...        ...     ...       ...       ...       ...       ...\n",
       "338  Gentoo     Biscoe  FEMALE  1.572414 -0.927902  0.905520  0.088041\n",
       "340  Gentoo     Biscoe  FEMALE  1.322035 -0.748356  0.979352 -0.070682\n",
       "341  Gentoo     Biscoe    MALE  1.377092  0.220933  1.448490  0.630948\n",
       "342  Gentoo     Biscoe  FEMALE  0.934766 -0.752510  0.753673  0.564495\n",
       "343  Gentoo     Biscoe    MALE  1.177269  0.312303  0.818302  0.755590\n",
       "\n",
       "[333 rows x 7 columns]"
      ]
     },
     "execution_count": 24,
     "metadata": {},
     "output_type": "execute_result"
    }
   ],
   "source": [
    "combined=df[['species','island','sex']]\n",
    "combined['Xc0']=X_c[:,0]\n",
    "combined['Xc1']=X_c[:,1]\n",
    "combined['Yc0']=Y_c[:,0]\n",
    "combined['Yc1']=Y_c[:,1]\n",
    "combined"
   ]
  },
  {
   "cell_type": "markdown",
   "id": "5972ebec",
   "metadata": {},
   "source": [
    "Vérifier la corrélation de la première et deuxième paire de covariables canoniques. Vous pouvez utiliser la fonction corrcoef() de NumPy. "
   ]
  },
  {
   "cell_type": "code",
   "execution_count": 25,
   "id": "8faff3b5",
   "metadata": {},
   "outputs": [
    {
     "data": {
      "text/plain": [
       "array([[1.        , 0.78763151],\n",
       "       [0.78763151, 1.        ]])"
      ]
     },
     "execution_count": 25,
     "metadata": {},
     "output_type": "execute_result"
    }
   ],
   "source": [
    "\n",
    "np.corrcoef(X_c[:,0],Y_c[:,0])"
   ]
  },
  {
   "cell_type": "markdown",
   "id": "8eb9a8c9",
   "metadata": {},
   "source": [
    "Commenter les résultats."
   ]
  },
  {
   "cell_type": "markdown",
   "id": "bb41d38c",
   "metadata": {},
   "source": [
    "On voit qu'elles sont fortement corrélées"
   ]
  },
  {
   "cell_type": "markdown",
   "id": "5053f49c",
   "metadata": {},
   "source": [
    "Pour mieux comprendre la relation entre les paires de covariables canoniques, visualiser les données dans le plan constitué de la premiere paire de covariables canoniques."
   ]
  },
  {
   "cell_type": "code",
   "execution_count": 26,
   "id": "420bcaca",
   "metadata": {},
   "outputs": [
    {
     "data": {
      "text/plain": [
       "<matplotlib.collections.PathCollection at 0x7f1e64531550>"
      ]
     },
     "execution_count": 26,
     "metadata": {},
     "output_type": "execute_result"
    },
    {
     "data": {
      "image/png": "[encoded data removed]",
      "text/plain": [
       "<Figure size 640x480 with 1 Axes>"
      ]
     },
     "metadata": {},
     "output_type": "display_data"
    }
   ],
   "source": [
    "plt.scatter(X_c[:,0],Y_c[:,0],c=y)"
   ]
  },
  {
   "cell_type": "markdown",
   "id": "8890c4f3",
   "metadata": {},
   "source": [
    "Commenter la visualisation."
   ]
  },
  {
   "cell_type": "markdown",
   "id": "41e5f556",
   "metadata": {},
   "source": [
    "On a visualiser les données dans un plan où elles sont le plus corrélées."
   ]
  },
  {
   "cell_type": "markdown",
   "id": "51c69c82",
   "metadata": {},
   "source": [
    "Pour ce jeux de données, nous savons déjà que la variable d'espèce dans l'ensemble de données est une variable latente ou une variable cachée. Voyons comment la variable latente est corrélée avec la première paire de covariables canoniques. "
   ]
  },
  {
   "cell_type": "markdown",
   "id": "aabd1cf4",
   "metadata": {},
   "source": [
    "Réaliser un boxplot entre la variable latente et chacune des covariables canoniques de la première paire.\n",
    "\n",
    "Documentation : https://fr.wikipedia.org/wiki/Bo%C3%AEte_%C3%A0_moustaches et https://seaborn.pydata.org/generated/seaborn.boxplot.html"
   ]
  },
  {
   "cell_type": "code",
   "execution_count": 27,
   "id": "31fc8441",
   "metadata": {},
   "outputs": [
    {
     "data": {
      "text/plain": [
       "<AxesSubplot: xlabel='Xc0', ylabel='species'>"
      ]
     },
     "execution_count": 27,
     "metadata": {},
     "output_type": "execute_result"
    },
    {
     "data": {
      "image/png": "[encoded data removed]",
      "text/plain": [
       "<Figure size 640x480 with 1 Axes>"
      ]
     },
     "metadata": {},
     "output_type": "display_data"
    }
   ],
   "source": [
    "sns.boxplot(data=combined,x='Xc0',y=\"species\")\n"
   ]
  },
  {
   "cell_type": "code",
   "execution_count": 21,
   "id": "bf901eb2",
   "metadata": {},
   "outputs": [
    {
     "data": {
      "text/plain": [
       "<AxesSubplot: xlabel='Yc0', ylabel='species'>"
      ]
     },
     "execution_count": 21,
     "metadata": {},
     "output_type": "execute_result"
    },
    {
     "data": {
      "image/png": "[encoded data removed]",
      "text/plain": [
       "<Figure size 640x480 with 1 Axes>"
      ]
     },
     "metadata": {},
     "output_type": "display_data"
    }
   ],
   "source": [
    "sns.boxplot(data=combined,x='Yc0',y=\"species\")"
   ]
  },
  {
   "cell_type": "markdown",
   "id": "be6f9950",
   "metadata": {},
   "source": [
    "En colorant les nuages de points dans le plan composé de la première paire de covariables canoniques, commenter comment les covariables canoniques ont capturé la variable latente de nos données."
   ]
  },
  {
   "cell_type": "code",
   "execution_count": null,
   "id": "b57adfd1",
   "metadata": {},
   "outputs": [],
   "source": []
  },
  {
   "cell_type": "markdown",
   "id": "5a9a72cc",
   "metadata": {},
   "source": [
    "Commenter la visualisation."
   ]
  },
  {
   "cell_type": "markdown",
   "id": "9db108d0",
   "metadata": {},
   "source": [
    "La vari ble espèce est plus corrélée avec la deuxième variable de la première paire de covariables canoniques qu'elle ne l'est avec la première."
   ]
  },
  {
   "cell_type": "markdown",
   "id": "1ad465b6",
   "metadata": {},
   "source": [
    "Allons un peu plus loin et réalisons une carte thermique des corrélations entre les covariables canoniques de chaque ensemble de données par rapport à notre ensemble de données d'entrée, y compris les métadonnées qui lui sont associées. \n",
    "\n",
    "\n",
    "Créer une dataframe avec les données originales et les covariables canoniques du premier ensemble de données X. Pour calculer la corrélation, nous convertissons les variables de caractère en variables catégorielles en codes 0/1/2."
   ]
  },
  {
   "cell_type": "code",
   "execution_count": 28,
   "id": "2d16213d",
   "metadata": {},
   "outputs": [
    {
     "data": {
      "text/html": [
       "<div>\n",
       "<style scoped>\n",
       "    .dataframe tbody tr th:only-of-type {\n",
       "        vertical-align: middle;\n",
       "    }\n",
       "\n",
       "    .dataframe tbody tr th {\n",
       "        vertical-align: top;\n",
       "    }\n",
       "\n",
       "    .dataframe thead th {\n",
       "        text-align: right;\n",
       "    }\n",
       "</style>\n",
       "<table border=\"1\" class=\"dataframe\">\n",
       "  <thead>\n",
       "    <tr style=\"text-align: right;\">\n",
       "      <th></th>\n",
       "      <th>species</th>\n",
       "      <th>island</th>\n",
       "      <th>sex</th>\n",
       "      <th>Xc0</th>\n",
       "      <th>Xc1</th>\n",
       "      <th>Yc0</th>\n",
       "      <th>Yc1</th>\n",
       "      <th>bill_depth_mm</th>\n",
       "      <th>flipper_length_mm</th>\n",
       "      <th>body_mass_g</th>\n",
       "    </tr>\n",
       "  </thead>\n",
       "  <tbody>\n",
       "    <tr>\n",
       "      <th>0</th>\n",
       "      <td>0</td>\n",
       "      <td>0</td>\n",
       "      <td>0</td>\n",
       "      <td>-1.186252</td>\n",
       "      <td>-0.010367</td>\n",
       "      <td>-1.408795</td>\n",
       "      <td>0.682866</td>\n",
       "      <td>18.7</td>\n",
       "      <td>181.0</td>\n",
       "      <td>3750.0</td>\n",
       "    </tr>\n",
       "    <tr>\n",
       "      <th>1</th>\n",
       "      <td>0</td>\n",
       "      <td>0</td>\n",
       "      <td>1</td>\n",
       "      <td>-0.709573</td>\n",
       "      <td>-0.456036</td>\n",
       "      <td>-1.053857</td>\n",
       "      <td>0.429879</td>\n",
       "      <td>17.4</td>\n",
       "      <td>186.0</td>\n",
       "      <td>3800.0</td>\n",
       "    </tr>\n",
       "    <tr>\n",
       "      <th>2</th>\n",
       "      <td>0</td>\n",
       "      <td>0</td>\n",
       "      <td>1</td>\n",
       "      <td>-0.790732</td>\n",
       "      <td>-0.130809</td>\n",
       "      <td>-0.393550</td>\n",
       "      <td>-0.839620</td>\n",
       "      <td>18.0</td>\n",
       "      <td>195.0</td>\n",
       "      <td>3250.0</td>\n",
       "    </tr>\n",
       "    <tr>\n",
       "      <th>4</th>\n",
       "      <td>0</td>\n",
       "      <td>0</td>\n",
       "      <td>1</td>\n",
       "      <td>-1.718663</td>\n",
       "      <td>-0.073623</td>\n",
       "      <td>-0.542888</td>\n",
       "      <td>-0.458571</td>\n",
       "      <td>19.3</td>\n",
       "      <td>193.0</td>\n",
       "      <td>3450.0</td>\n",
       "    </tr>\n",
       "    <tr>\n",
       "      <th>5</th>\n",
       "      <td>0</td>\n",
       "      <td>0</td>\n",
       "      <td>0</td>\n",
       "      <td>-1.772295</td>\n",
       "      <td>0.736248</td>\n",
       "      <td>-0.763548</td>\n",
       "      <td>-0.014204</td>\n",
       "      <td>20.6</td>\n",
       "      <td>190.0</td>\n",
       "      <td>3650.0</td>\n",
       "    </tr>\n",
       "    <tr>\n",
       "      <th>...</th>\n",
       "      <td>...</td>\n",
       "      <td>...</td>\n",
       "      <td>...</td>\n",
       "      <td>...</td>\n",
       "      <td>...</td>\n",
       "      <td>...</td>\n",
       "      <td>...</td>\n",
       "      <td>...</td>\n",
       "      <td>...</td>\n",
       "      <td>...</td>\n",
       "    </tr>\n",
       "    <tr>\n",
       "      <th>338</th>\n",
       "      <td>2</td>\n",
       "      <td>1</td>\n",
       "      <td>1</td>\n",
       "      <td>1.572414</td>\n",
       "      <td>-0.927902</td>\n",
       "      <td>0.905520</td>\n",
       "      <td>0.088041</td>\n",
       "      <td>13.7</td>\n",
       "      <td>214.0</td>\n",
       "      <td>4925.0</td>\n",
       "    </tr>\n",
       "    <tr>\n",
       "      <th>340</th>\n",
       "      <td>2</td>\n",
       "      <td>1</td>\n",
       "      <td>1</td>\n",
       "      <td>1.322035</td>\n",
       "      <td>-0.748356</td>\n",
       "      <td>0.979352</td>\n",
       "      <td>-0.070682</td>\n",
       "      <td>14.3</td>\n",
       "      <td>215.0</td>\n",
       "      <td>4850.0</td>\n",
       "    </tr>\n",
       "    <tr>\n",
       "      <th>341</th>\n",
       "      <td>2</td>\n",
       "      <td>1</td>\n",
       "      <td>0</td>\n",
       "      <td>1.377092</td>\n",
       "      <td>0.220933</td>\n",
       "      <td>1.448490</td>\n",
       "      <td>0.630948</td>\n",
       "      <td>15.7</td>\n",
       "      <td>222.0</td>\n",
       "      <td>5750.0</td>\n",
       "    </tr>\n",
       "    <tr>\n",
       "      <th>342</th>\n",
       "      <td>2</td>\n",
       "      <td>1</td>\n",
       "      <td>1</td>\n",
       "      <td>0.934766</td>\n",
       "      <td>-0.752510</td>\n",
       "      <td>0.753673</td>\n",
       "      <td>0.564495</td>\n",
       "      <td>14.8</td>\n",
       "      <td>212.0</td>\n",
       "      <td>5200.0</td>\n",
       "    </tr>\n",
       "    <tr>\n",
       "      <th>343</th>\n",
       "      <td>2</td>\n",
       "      <td>1</td>\n",
       "      <td>0</td>\n",
       "      <td>1.177269</td>\n",
       "      <td>0.312303</td>\n",
       "      <td>0.818302</td>\n",
       "      <td>0.755590</td>\n",
       "      <td>16.1</td>\n",
       "      <td>213.0</td>\n",
       "      <td>5400.0</td>\n",
       "    </tr>\n",
       "  </tbody>\n",
       "</table>\n",
       "<p>333 rows × 10 columns</p>\n",
       "</div>"
      ],
      "text/plain": [
       "     species  island  sex       Xc0       Xc1       Yc0       Yc1  \\\n",
       "0          0       0    0 -1.186252 -0.010367 -1.408795  0.682866   \n",
       "1          0       0    1 -0.709573 -0.456036 -1.053857  0.429879   \n",
       "2          0       0    1 -0.790732 -0.130809 -0.393550 -0.839620   \n",
       "4          0       0    1 -1.718663 -0.073623 -0.542888 -0.458571   \n",
       "5          0       0    0 -1.772295  0.736248 -0.763548 -0.014204   \n",
       "..       ...     ...  ...       ...       ...       ...       ...   \n",
       "338        2       1    1  1.572414 -0.927902  0.905520  0.088041   \n",
       "340        2       1    1  1.322035 -0.748356  0.979352 -0.070682   \n",
       "341        2       1    0  1.377092  0.220933  1.448490  0.630948   \n",
       "342        2       1    1  0.934766 -0.752510  0.753673  0.564495   \n",
       "343        2       1    0  1.177269  0.312303  0.818302  0.755590   \n",
       "\n",
       "     bill_depth_mm  flipper_length_mm  body_mass_g  \n",
       "0             18.7              181.0       3750.0  \n",
       "1             17.4              186.0       3800.0  \n",
       "2             18.0              195.0       3250.0  \n",
       "4             19.3              193.0       3450.0  \n",
       "5             20.6              190.0       3650.0  \n",
       "..             ...                ...          ...  \n",
       "338           13.7              214.0       4925.0  \n",
       "340           14.3              215.0       4850.0  \n",
       "341           15.7              222.0       5750.0  \n",
       "342           14.8              212.0       5200.0  \n",
       "343           16.1              213.0       5400.0  \n",
       "\n",
       "[333 rows x 10 columns]"
      ]
     },
     "execution_count": 28,
     "metadata": {},
     "output_type": "execute_result"
    }
   ],
   "source": [
    "new_combined=combined\n",
    "new_combined['sex']=df['sex'].factorize()[0]\n",
    "new_combined['species']=df['species'].factorize()[0]\n",
    "new_combined['island']=df['island'].factorize()[0]\n",
    "new_combined[['bill_depth_mm','flipper_length_mm','body_mass_g']]=df[['bill_depth_mm','flipper_length_mm','body_mass_g']]\t\n",
    "new_combined"
   ]
  },
  {
   "cell_type": "code",
   "execution_count": 17,
   "id": "d7fc53f9",
   "metadata": {},
   "outputs": [
    {
     "data": {
      "text/html": [
       "<div>\n",
       "<style scoped>\n",
       "    .dataframe tbody tr th:only-of-type {\n",
       "        vertical-align: middle;\n",
       "    }\n",
       "\n",
       "    .dataframe tbody tr th {\n",
       "        vertical-align: top;\n",
       "    }\n",
       "\n",
       "    .dataframe thead th {\n",
       "        text-align: right;\n",
       "    }\n",
       "</style>\n",
       "<table border=\"1\" class=\"dataframe\">\n",
       "  <thead>\n",
       "    <tr style=\"text-align: right;\">\n",
       "      <th></th>\n",
       "      <th>species</th>\n",
       "      <th>island</th>\n",
       "      <th>sex</th>\n",
       "      <th>Xc0</th>\n",
       "      <th>Xc1</th>\n",
       "      <th>Yc0</th>\n",
       "      <th>Yc1</th>\n",
       "      <th>bill_depth_mm</th>\n",
       "      <th>flipper_length_mm</th>\n",
       "      <th>body_mass_g</th>\n",
       "    </tr>\n",
       "  </thead>\n",
       "  <tbody>\n",
       "    <tr>\n",
       "      <th>species</th>\n",
       "      <td>1.000000</td>\n",
       "      <td>-0.009176</td>\n",
       "      <td>-0.010964</td>\n",
       "      <td>9.350575e-01</td>\n",
       "      <td>-7.871884e-02</td>\n",
       "      <td>8.504455e-01</td>\n",
       "      <td>2.735874e-02</td>\n",
       "      <td>-0.740346</td>\n",
       "      <td>0.850737</td>\n",
       "      <td>0.750434</td>\n",
       "    </tr>\n",
       "    <tr>\n",
       "      <th>island</th>\n",
       "      <td>-0.009176</td>\n",
       "      <td>1.000000</td>\n",
       "      <td>-0.005834</td>\n",
       "      <td>3.866926e-02</td>\n",
       "      <td>3.213875e-01</td>\n",
       "      <td>-1.610705e-01</td>\n",
       "      <td>-1.249848e-01</td>\n",
       "      <td>0.189636</td>\n",
       "      <td>-0.162739</td>\n",
       "      <td>-0.201966</td>\n",
       "    </tr>\n",
       "    <tr>\n",
       "      <th>sex</th>\n",
       "      <td>-0.010964</td>\n",
       "      <td>-0.005834</td>\n",
       "      <td>1.000000</td>\n",
       "      <td>-2.538332e-02</td>\n",
       "      <td>-5.767897e-01</td>\n",
       "      <td>-2.495635e-01</td>\n",
       "      <td>-4.180092e-01</td>\n",
       "      <td>-0.372673</td>\n",
       "      <td>-0.255169</td>\n",
       "      <td>-0.424987</td>\n",
       "    </tr>\n",
       "    <tr>\n",
       "      <th>Xc0</th>\n",
       "      <td>0.935057</td>\n",
       "      <td>0.038669</td>\n",
       "      <td>-0.025383</td>\n",
       "      <td>1.000000e+00</td>\n",
       "      <td>-4.252560e-16</td>\n",
       "      <td>7.876315e-01</td>\n",
       "      <td>-5.461576e-16</td>\n",
       "      <td>-0.734650</td>\n",
       "      <td>0.787560</td>\n",
       "      <td>0.682351</td>\n",
       "    </tr>\n",
       "    <tr>\n",
       "      <th>Xc1</th>\n",
       "      <td>-0.078719</td>\n",
       "      <td>0.321388</td>\n",
       "      <td>-0.576790</td>\n",
       "      <td>-4.252560e-16</td>\n",
       "      <td>1.000000e+00</td>\n",
       "      <td>-1.663021e-07</td>\n",
       "      <td>8.638695e-02</td>\n",
       "      <td>0.678447</td>\n",
       "      <td>0.001163</td>\n",
       "      <td>0.043147</td>\n",
       "    </tr>\n",
       "    <tr>\n",
       "      <th>Yc0</th>\n",
       "      <td>0.850446</td>\n",
       "      <td>-0.161070</td>\n",
       "      <td>-0.249564</td>\n",
       "      <td>7.876315e-01</td>\n",
       "      <td>-1.663021e-07</td>\n",
       "      <td>1.000000e+00</td>\n",
       "      <td>-7.370148e-16</td>\n",
       "      <td>-0.578633</td>\n",
       "      <td>0.999909</td>\n",
       "      <td>0.866333</td>\n",
       "    </tr>\n",
       "    <tr>\n",
       "      <th>Yc1</th>\n",
       "      <td>0.027359</td>\n",
       "      <td>-0.124985</td>\n",
       "      <td>-0.418009</td>\n",
       "      <td>-5.461576e-16</td>\n",
       "      <td>8.638695e-02</td>\n",
       "      <td>-7.370148e-16</td>\n",
       "      <td>1.000000e+00</td>\n",
       "      <td>0.058609</td>\n",
       "      <td>0.013464</td>\n",
       "      <td>0.499467</td>\n",
       "    </tr>\n",
       "    <tr>\n",
       "      <th>bill_depth_mm</th>\n",
       "      <td>-0.740346</td>\n",
       "      <td>0.189636</td>\n",
       "      <td>-0.372673</td>\n",
       "      <td>-7.346495e-01</td>\n",
       "      <td>6.784468e-01</td>\n",
       "      <td>-5.786332e-01</td>\n",
       "      <td>5.860895e-02</td>\n",
       "      <td>1.000000</td>\n",
       "      <td>-0.577792</td>\n",
       "      <td>-0.472016</td>\n",
       "    </tr>\n",
       "    <tr>\n",
       "      <th>flipper_length_mm</th>\n",
       "      <td>0.850737</td>\n",
       "      <td>-0.162739</td>\n",
       "      <td>-0.255169</td>\n",
       "      <td>7.875601e-01</td>\n",
       "      <td>1.162924e-03</td>\n",
       "      <td>9.999094e-01</td>\n",
       "      <td>1.346373e-02</td>\n",
       "      <td>-0.577792</td>\n",
       "      <td>1.000000</td>\n",
       "      <td>0.872979</td>\n",
       "    </tr>\n",
       "    <tr>\n",
       "      <th>body_mass_g</th>\n",
       "      <td>0.750434</td>\n",
       "      <td>-0.201966</td>\n",
       "      <td>-0.424987</td>\n",
       "      <td>6.823510e-01</td>\n",
       "      <td>4.314731e-02</td>\n",
       "      <td>8.663327e-01</td>\n",
       "      <td>4.994673e-01</td>\n",
       "      <td>-0.472016</td>\n",
       "      <td>0.872979</td>\n",
       "      <td>1.000000</td>\n",
       "    </tr>\n",
       "  </tbody>\n",
       "</table>\n",
       "</div>"
      ],
      "text/plain": [
       "                    species    island       sex           Xc0           Xc1  \\\n",
       "species            1.000000 -0.009176 -0.010964  9.350575e-01 -7.871884e-02   \n",
       "island            -0.009176  1.000000 -0.005834  3.866926e-02  3.213875e-01   \n",
       "sex               -0.010964 -0.005834  1.000000 -2.538332e-02 -5.767897e-01   \n",
       "Xc0                0.935057  0.038669 -0.025383  1.000000e+00 -4.252560e-16   \n",
       "Xc1               -0.078719  0.321388 -0.576790 -4.252560e-16  1.000000e+00   \n",
       "Yc0                0.850446 -0.161070 -0.249564  7.876315e-01 -1.663021e-07   \n",
       "Yc1                0.027359 -0.124985 -0.418009 -5.461576e-16  8.638695e-02   \n",
       "bill_depth_mm     -0.740346  0.189636 -0.372673 -7.346495e-01  6.784468e-01   \n",
       "flipper_length_mm  0.850737 -0.162739 -0.255169  7.875601e-01  1.162924e-03   \n",
       "body_mass_g        0.750434 -0.201966 -0.424987  6.823510e-01  4.314731e-02   \n",
       "\n",
       "                            Yc0           Yc1  bill_depth_mm  \\\n",
       "species            8.504455e-01  2.735874e-02      -0.740346   \n",
       "island            -1.610705e-01 -1.249848e-01       0.189636   \n",
       "sex               -2.495635e-01 -4.180092e-01      -0.372673   \n",
       "Xc0                7.876315e-01 -5.461576e-16      -0.734650   \n",
       "Xc1               -1.663021e-07  8.638695e-02       0.678447   \n",
       "Yc0                1.000000e+00 -7.370148e-16      -0.578633   \n",
       "Yc1               -7.370148e-16  1.000000e+00       0.058609   \n",
       "bill_depth_mm     -5.786332e-01  5.860895e-02       1.000000   \n",
       "flipper_length_mm  9.999094e-01  1.346373e-02      -0.577792   \n",
       "body_mass_g        8.663327e-01  4.994673e-01      -0.472016   \n",
       "\n",
       "                   flipper_length_mm  body_mass_g  \n",
       "species                     0.850737     0.750434  \n",
       "island                     -0.162739    -0.201966  \n",
       "sex                        -0.255169    -0.424987  \n",
       "Xc0                         0.787560     0.682351  \n",
       "Xc1                         0.001163     0.043147  \n",
       "Yc0                         0.999909     0.866333  \n",
       "Yc1                         0.013464     0.499467  \n",
       "bill_depth_mm              -0.577792    -0.472016  \n",
       "flipper_length_mm           1.000000     0.872979  \n",
       "body_mass_g                 0.872979     1.000000  "
      ]
     },
     "execution_count": 17,
     "metadata": {},
     "output_type": "execute_result"
    }
   ],
   "source": [
    "corr=new_combined.corr()\n",
    "corr"
   ]
  },
  {
   "cell_type": "markdown",
   "id": "0d352ce7",
   "metadata": {},
   "source": [
    "Avec la fonction corr() de Pandas, calculer la corrélation de toutes les variables de la dataframe."
   ]
  },
  {
   "cell_type": "code",
   "execution_count": 33,
   "id": "4d3553de",
   "metadata": {},
   "outputs": [
    {
     "data": {
      "text/plain": [
       "<matplotlib.image.AxesImage at 0x7f1934f88cd0>"
      ]
     },
     "execution_count": 33,
     "metadata": {},
     "output_type": "execute_result"
    },
    {
     "data": {
      "image/png": "[encoded data removed]",
      "text/plain": [
       "<Figure size 640x480 with 1 Axes>"
      ]
     },
     "metadata": {},
     "output_type": "display_data"
    }
   ],
   "source": [
    "plt.imshow(np.tril(corr))"
   ]
  },
  {
   "cell_type": "markdown",
   "id": "64753e3f",
   "metadata": {},
   "source": [
    "Créer une carte thermique avec la matrice de corrélation (triangulaire inférieure). \n",
    "Pour le faire, utiliser la fonction tril() de Numpy."
   ]
  },
  {
   "cell_type": "code",
   "execution_count": null,
   "id": "67079e69",
   "metadata": {},
   "outputs": [],
   "source": [
    "np.tril"
   ]
  },
  {
   "cell_type": "markdown",
   "id": "ac4ac4d9",
   "metadata": {},
   "source": [
    "Commenter la carte thérmique."
   ]
  },
  {
   "cell_type": "markdown",
   "id": "9bf72d33",
   "metadata": {},
   "source": [
    "On voit nettement la forte corrélation entre la variable espèce et la première paire de variables canoniques et que par exemple qu'il n'est pas du tout corrélé avec les variables island et sex."
   ]
  },
  {
   "cell_type": "markdown",
   "id": "c1651d8c",
   "metadata": {},
   "source": [
    "Réalisons une carte thermique de corrélation triangulaire inférieure similaire avec les covariables canoniques de l'ensemble de données Y et l'ensemble de données Y lui-même, y compris les métadonnées qui lui sont associées."
   ]
  },
  {
   "cell_type": "code",
   "execution_count": 31,
   "id": "c5e2d9b0",
   "metadata": {},
   "outputs": [
    {
     "data": {
      "text/plain": [
       "<matplotlib.image.AxesImage at 0x7f1e5f236f40>"
      ]
     },
     "execution_count": 31,
     "metadata": {},
     "output_type": "execute_result"
    },
    {
     "data": {
      "image/png": "[encoded data removed]",
      "text/plain": [
       "<Figure size 640x480 with 1 Axes>"
      ]
     },
     "metadata": {},
     "output_type": "display_data"
    }
   ],
   "source": [
    "new_combined['Xc1']=X_c[:,1]\n",
    "new_combined['Yc1']=Y_c[:,1]\n",
    "plt.imshow(np.tril(new_combined.corr()))"
   ]
  },
  {
   "cell_type": "markdown",
   "id": "b06f685e",
   "metadata": {},
   "source": [
    "Commenter la carte thérmique."
   ]
  },
  {
   "cell_type": "code",
   "execution_count": null,
   "id": "4d18ff13",
   "metadata": {},
   "outputs": [],
   "source": []
  },
  {
   "cell_type": "markdown",
   "id": "f6f338fe",
   "metadata": {},
   "source": [
    "Les deux cartes thermiques montrant les corrélations entre les covariables canoniques et les ensembles de données montrent que le sexe est une autre variable qui a un effet sur les deux ensembles de données et que l'ACC pourrait en tenir compte. Pour voir l'effet du sexe, nous pouvons visualiser les données dans le plan constitué de la deuxième paire de covariables canoniques et les colorer par variable de sexe."
   ]
  },
  {
   "cell_type": "code",
   "execution_count": 11,
   "id": "350d0416",
   "metadata": {},
   "outputs": [
    {
     "data": {
      "text/plain": [
       "<matplotlib.collections.PathCollection at 0x7f1e657668b0>"
      ]
     },
     "execution_count": 11,
     "metadata": {},
     "output_type": "execute_result"
    },
    {
     "data": {
      "image/png": "[encoded data removed]",
      "text/plain": [
       "<Figure size 640x480 with 1 Axes>"
      ]
     },
     "metadata": {},
     "output_type": "display_data"
    }
   ],
   "source": [
    "sex=df['sex'].factorize()[0]\n",
    "plt.scatter(X_c[:,1],Y_c[:,1],c=sex)"
   ]
  },
  {
   "cell_type": "markdown",
   "id": "a2a55b7b",
   "metadata": {},
   "source": [
    "On peut voir que le sex est fortement corrélé à la deuxième paire de variables canoniques."
   ]
  }
 ],
 "metadata": {
  "kernelspec": {
   "display_name": "Python 3.8.10 64-bit",
   "language": "python",
   "name": "python3"
  },
  "language_info": {
   "codemirror_mode": {
    "name": "ipython",
    "version": 3
   },
   "file_extension": ".py",
   "mimetype": "text/x-python",
   "name": "python",
   "nbconvert_exporter": "python",
   "pygments_lexer": "ipython3",
   "version": "3.8.10"
  },
  "vscode": {
   "interpreter": {
    "hash": "916dbcbb3f70747c44a77c7bcd40155683ae19c65e1c03b4aa3499c5328201f1"
   }
  }
 },
 "nbformat": 4,
 "nbformat_minor": 5
}
