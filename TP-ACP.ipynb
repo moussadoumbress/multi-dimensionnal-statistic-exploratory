{
 "cells": [
  {
   "cell_type": "markdown",
   "id": "f5bc484c",
   "metadata": {},
   "source": [
    "Nous utilisons dans ce TP le module scikit-learn, dédié au Machine Learning. Pour l'utiliser, nous importons les éléments un par un lorsqu'on en a besoin. Et nous allons aussi utiliser d'autres modules, que nous importons ici."
   ]
  },
  {
   "cell_type": "code",
   "execution_count": 1,
   "id": "d84ade6c",
   "metadata": {},
   "outputs": [],
   "source": [
    "import numpy as np\n",
    "import pandas\n",
    "import matplotlib.pyplot as plt\n",
    "import seaborn\n",
    "seaborn.set_style(\"white\")\n",
    "\n",
    "# permet d'afficher les graphiques dans un notebook"
   ]
  },
  {
   "cell_type": "markdown",
   "id": "e2f2b88a",
   "metadata": {},
   "source": [
    "Pour appliquer les deux méthodes, nous allons réaliser une étude de cas, avec les données WGI. Celles-ci donnent certains indicateurs sur la gouvernance des pays (plus d'infos sur cette page). Voici donc le code pour les importer dans un data frame pandas, et leur aperçu. Pour information, plus la valeur est haute, meilleur est le pays sur cet indicateur (et inversement)."
   ]
  },
  {
   "cell_type": "code",
   "execution_count": 12,
   "id": "82f0c735",
   "metadata": {},
   "outputs": [
    {
     "data": {
      "text/html": [
       "<div>\n",
       "<style scoped>\n",
       "    .dataframe tbody tr th:only-of-type {\n",
       "        vertical-align: middle;\n",
       "    }\n",
       "\n",
       "    .dataframe tbody tr th {\n",
       "        vertical-align: top;\n",
       "    }\n",
       "\n",
       "    .dataframe thead th {\n",
       "        text-align: right;\n",
       "    }\n",
       "</style>\n",
       "<table border=\"1\" class=\"dataframe\">\n",
       "  <thead>\n",
       "    <tr style=\"text-align: right;\">\n",
       "      <th></th>\n",
       "      <th>Country</th>\n",
       "      <th>Continent</th>\n",
       "      <th>CorruptionControl</th>\n",
       "      <th>GovEffectiveness</th>\n",
       "      <th>PoliticalStability</th>\n",
       "      <th>RegulatoryQuality</th>\n",
       "      <th>RuleLaw</th>\n",
       "      <th>VoiceAccountability</th>\n",
       "    </tr>\n",
       "  </thead>\n",
       "  <tbody>\n",
       "    <tr>\n",
       "      <th>0</th>\n",
       "      <td>Afghanistan</td>\n",
       "      <td>Asia</td>\n",
       "      <td>-1.563735</td>\n",
       "      <td>-1.222106</td>\n",
       "      <td>-2.749167</td>\n",
       "      <td>-1.327919</td>\n",
       "      <td>-1.616430</td>\n",
       "      <td>-1.086220</td>\n",
       "    </tr>\n",
       "    <tr>\n",
       "      <th>1</th>\n",
       "      <td>Albania</td>\n",
       "      <td>Europe</td>\n",
       "      <td>-0.397567</td>\n",
       "      <td>-0.000573</td>\n",
       "      <td>0.257720</td>\n",
       "      <td>0.188962</td>\n",
       "      <td>-0.347468</td>\n",
       "      <td>0.159191</td>\n",
       "    </tr>\n",
       "    <tr>\n",
       "      <th>2</th>\n",
       "      <td>Algeria</td>\n",
       "      <td>Africa</td>\n",
       "      <td>-0.691359</td>\n",
       "      <td>-0.544695</td>\n",
       "      <td>-1.139282</td>\n",
       "      <td>-1.171843</td>\n",
       "      <td>-0.849319</td>\n",
       "      <td>-0.877241</td>\n",
       "    </tr>\n",
       "    <tr>\n",
       "      <th>4</th>\n",
       "      <td>Andorra</td>\n",
       "      <td>Europe</td>\n",
       "      <td>1.230341</td>\n",
       "      <td>1.860201</td>\n",
       "      <td>1.396047</td>\n",
       "      <td>0.871409</td>\n",
       "      <td>1.564011</td>\n",
       "      <td>1.197540</td>\n",
       "    </tr>\n",
       "    <tr>\n",
       "      <th>5</th>\n",
       "      <td>Angola</td>\n",
       "      <td>Africa</td>\n",
       "      <td>-1.411829</td>\n",
       "      <td>-1.039377</td>\n",
       "      <td>-0.386640</td>\n",
       "      <td>-1.001381</td>\n",
       "      <td>-1.080522</td>\n",
       "      <td>-1.167355</td>\n",
       "    </tr>\n",
       "    <tr>\n",
       "      <th>...</th>\n",
       "      <td>...</td>\n",
       "      <td>...</td>\n",
       "      <td>...</td>\n",
       "      <td>...</td>\n",
       "      <td>...</td>\n",
       "      <td>...</td>\n",
       "      <td>...</td>\n",
       "      <td>...</td>\n",
       "    </tr>\n",
       "    <tr>\n",
       "      <th>204</th>\n",
       "      <td>Vietnam</td>\n",
       "      <td>Asia</td>\n",
       "      <td>-0.396315</td>\n",
       "      <td>0.010342</td>\n",
       "      <td>0.168574</td>\n",
       "      <td>-0.453935</td>\n",
       "      <td>0.048006</td>\n",
       "      <td>-1.407117</td>\n",
       "    </tr>\n",
       "    <tr>\n",
       "      <th>206</th>\n",
       "      <td>West Bank and Gaza</td>\n",
       "      <td>Asia</td>\n",
       "      <td>-0.151860</td>\n",
       "      <td>-0.618906</td>\n",
       "      <td>-2.097847</td>\n",
       "      <td>0.064761</td>\n",
       "      <td>-0.306334</td>\n",
       "      <td>-1.169161</td>\n",
       "    </tr>\n",
       "    <tr>\n",
       "      <th>207</th>\n",
       "      <td>Yemen, Rep.</td>\n",
       "      <td>Asia</td>\n",
       "      <td>-1.668297</td>\n",
       "      <td>-1.819497</td>\n",
       "      <td>-2.793776</td>\n",
       "      <td>-1.479933</td>\n",
       "      <td>-1.600989</td>\n",
       "      <td>-1.651756</td>\n",
       "    </tr>\n",
       "    <tr>\n",
       "      <th>208</th>\n",
       "      <td>Zambia</td>\n",
       "      <td>Africa</td>\n",
       "      <td>-0.396116</td>\n",
       "      <td>-0.658354</td>\n",
       "      <td>0.183082</td>\n",
       "      <td>-0.483631</td>\n",
       "      <td>-0.302031</td>\n",
       "      <td>-0.300023</td>\n",
       "    </tr>\n",
       "    <tr>\n",
       "      <th>209</th>\n",
       "      <td>Zimbabwe</td>\n",
       "      <td>Africa</td>\n",
       "      <td>-1.281971</td>\n",
       "      <td>-1.159108</td>\n",
       "      <td>-0.612713</td>\n",
       "      <td>-1.720111</td>\n",
       "      <td>-1.323667</td>\n",
       "      <td>-1.113374</td>\n",
       "    </tr>\n",
       "  </tbody>\n",
       "</table>\n",
       "<p>201 rows × 8 columns</p>\n",
       "</div>"
      ],
      "text/plain": [
       "                Country Continent  CorruptionControl  GovEffectiveness  \\\n",
       "0           Afghanistan      Asia          -1.563735         -1.222106   \n",
       "1               Albania    Europe          -0.397567         -0.000573   \n",
       "2               Algeria    Africa          -0.691359         -0.544695   \n",
       "4               Andorra    Europe           1.230341          1.860201   \n",
       "5                Angola    Africa          -1.411829         -1.039377   \n",
       "..                  ...       ...                ...               ...   \n",
       "204             Vietnam      Asia          -0.396315          0.010342   \n",
       "206  West Bank and Gaza      Asia          -0.151860         -0.618906   \n",
       "207         Yemen, Rep.      Asia          -1.668297         -1.819497   \n",
       "208              Zambia    Africa          -0.396116         -0.658354   \n",
       "209            Zimbabwe    Africa          -1.281971         -1.159108   \n",
       "\n",
       "     PoliticalStability  RegulatoryQuality   RuleLaw  VoiceAccountability  \n",
       "0             -2.749167          -1.327919 -1.616430            -1.086220  \n",
       "1              0.257720           0.188962 -0.347468             0.159191  \n",
       "2             -1.139282          -1.171843 -0.849319            -0.877241  \n",
       "4              1.396047           0.871409  1.564011             1.197540  \n",
       "5             -0.386640          -1.001381 -1.080522            -1.167355  \n",
       "..                  ...                ...       ...                  ...  \n",
       "204            0.168574          -0.453935  0.048006            -1.407117  \n",
       "206           -2.097847           0.064761 -0.306334            -1.169161  \n",
       "207           -2.793776          -1.479933 -1.600989            -1.651756  \n",
       "208            0.183082          -0.483631 -0.302031            -0.300023  \n",
       "209           -0.612713          -1.720111 -1.323667            -1.113374  \n",
       "\n",
       "[201 rows x 8 columns]"
      ]
     },
     "execution_count": 12,
     "metadata": {},
     "output_type": "execute_result"
    }
   ],
   "source": [
    "df=pandas.read_csv(\"/home/ing/Bureau/tp_SEM/WGI.csv\").dropna()\n",
    "\n",
    "df"
   ]
  },
  {
   "cell_type": "markdown",
   "id": "7d67c3d1",
   "metadata": {},
   "source": [
    "# ACP"
   ]
  },
  {
   "cell_type": "markdown",
   "id": "81437108",
   "metadata": {},
   "source": [
    "Dans le sous-module decomposition, nous allons importer la fonction PCA(). Le fonctionnement de celle-ci est similaire à toutes les autres dans scikit-learn.\n",
    "\n",
    "On créé d'abord un objet (nommé ici pca) qui va contenir le résultat de l'ACP. Dans la fonction PCA(), on pourra aussi indiquer les paramètres tels que le nombre de composants à retenir (n_components - ici on garde tout).\n",
    "Ensuite, on ajuste (fit en anglais) sur des données avec la fonction fit() de l'objet précédemment créé. Dans cette fonction, nous devons donc passer les données à utiliser (variables uniquement quantitatives).\n",
    "Si l'on souhaite une ACP normée (ce qui n'est pas le cas ici), il nous faut standardiser les données en amont, avec par exemple la fonction scale() du sous-module preprocessing (importée aussi ici). Bien évidemment, il ne faut passer que des variables quantitatives, sans données manquantes."
   ]
  },
  {
   "cell_type": "code",
   "execution_count": 15,
   "id": "99a5b143",
   "metadata": {},
   "outputs": [
    {
     "data": {
      "text/plain": [
       "201"
      ]
     },
     "execution_count": 15,
     "metadata": {},
     "output_type": "execute_result"
    }
   ],
   "source": [
    "from sklearn import decomposition\n",
    "from sklearn import preprocessing\n",
    "y=df['Continent']\n",
    "labels=y.unique\n",
    "#nums=[j for i in y for j,k in enumerate(y) if k==i]\n",
    "nums=y.factorize()[0]\n",
    "x=df.drop(['Country','Continent'], axis=1)\n",
    "pca=decomposition.PCA(n_components=6)\n",
    "pca.fit(x)\n",
    "len(nums)"
   ]
  },
  {
   "cell_type": "markdown",
   "id": "7f32432d",
   "metadata": {},
   "source": [
    "# Variance expliquée¶"
   ]
  },
  {
   "cell_type": "markdown",
   "id": "a988e2ee",
   "metadata": {},
   "source": [
    "\n",
    "L'objet pca comprend maintenant un certain nombre d'objets et de fonctions. Le premier objet est le tableau des variances expliquées (explained_variance_ - proportionnelles aux valeurs propres) par chaque dimension, et le ratio (proportion) de variance expliquée par dimension (explained_variance_ratio_)."
   ]
  },
  {
   "cell_type": "code",
   "execution_count": 4,
   "id": "f4701dfb",
   "metadata": {},
   "outputs": [
    {
     "name": "stdout",
     "output_type": "stream",
     "text": [
      "[5.02734546 0.47250134 0.31926518 0.11493585 0.05219518 0.04079811]\n",
      "[0.8341316  0.0783969  0.05297213 0.01907003 0.00866017 0.00676918]\n"
     ]
    }
   ],
   "source": [
    "print(pca.explained_variance_)\n",
    "print(pca.explained_variance_ratio_)"
   ]
  },
  {
   "cell_type": "markdown",
   "id": "183048b9",
   "metadata": {},
   "source": [
    "Bien évidemment, il est possible (et préférable) de faire un tableau récapitulatif, avec les variances expliquées, les proportions de variance expliquée simples et cumulées. Voici un petit code permettant de faire ceci."
   ]
  },
  {
   "cell_type": "code",
   "execution_count": 5,
   "id": "e9c14876",
   "metadata": {},
   "outputs": [
    {
     "name": "stdout",
     "output_type": "stream",
     "text": [
      "[array([5.02734546, 0.47250134, 0.31926518, 0.11493585, 0.05219518,\n",
      "       0.04079811]), array([0.8341316 , 0.0783969 , 0.05297213, 0.01907003, 0.00866017,\n",
      "       0.00676918]), [0.8341316014968845, 0.912528501885845, 0.9655006273087817, 0.9845706563085654, 0.9932308227299421, 1.0]]\n"
     ]
    }
   ],
   "source": [
    "#explained_variance = [pca.explained_variance_, pca.explained_variance_ratio_]\n",
    "\n",
    "cumul=[pca.explained_variance_ratio_[0]]\n",
    "for i in range(1,len(pca.explained_variance_ratio_)):\n",
    "    cumul.append(cumul[i-1] +pca.explained_variance_ratio_[i])\n",
    "recap_variance= [pca.explained_variance_, pca.explained_variance_ratio_,cumul]\n",
    "print(recap_variance)"
   ]
  },
  {
   "cell_type": "markdown",
   "id": "5dc8b37f",
   "metadata": {},
   "source": [
    "L'idée est de représenter graphiquement ces proportions de variances expliquées (qu'on passe en pourcentage par convenance).\n",
    "\n"
   ]
  },
  {
   "cell_type": "code",
   "execution_count": 6,
   "id": "b0276148",
   "metadata": {},
   "outputs": [
    {
     "data": {
      "text/plain": [
       "<BarContainer object of 6 artists>"
      ]
     },
     "execution_count": 6,
     "metadata": {},
     "output_type": "execute_result"
    },
    {
     "data": {
      "image/png": "[encoded data removed]",
      "text/plain": [
       "<Figure size 640x480 with 1 Axes>"
      ]
     },
     "metadata": {},
     "output_type": "display_data"
    }
   ],
   "source": [
    "plt.title(\"proportions de variances expliquées en pourcentage\")\n",
    "plt.bar(range(6),100*pca.explained_variance_ratio_)\n",
    "#plt.hist(pca.explained_variance_ratio_*100)"
   ]
  },
  {
   "cell_type": "markdown",
   "id": "71146656",
   "metadata": {},
   "source": [
    "# Représentation des individus¶\n"
   ]
  },
  {
   "cell_type": "markdown",
   "id": "b4e2e200",
   "metadata": {},
   "source": [
    "Nous allons maintenant calculer les coordonnées des iris sur les dimensions, avec la fonction transform() de l'objet pca.\n",
    "\n"
   ]
  },
  {
   "cell_type": "code",
   "execution_count": 7,
   "id": "6906a91b",
   "metadata": {},
   "outputs": [],
   "source": [
    "\n",
    "transform=pca.transform(x)"
   ]
  },
  {
   "cell_type": "markdown",
   "id": "20ff5023",
   "metadata": {},
   "source": [
    "Afin de manipuler plus facilement l'objet obtenu par la suite, nous allons créer un DataFrame pandas en ne prenant que les deux premières dimensions, ainsi que les espèces.\n",
    "\n"
   ]
  },
  {
   "cell_type": "code",
   "execution_count": 18,
   "id": "da329605",
   "metadata": {},
   "outputs": [],
   "source": [
    "\n",
    "x=transform[:,:2]"
   ]
  },
  {
   "cell_type": "markdown",
   "id": "9b9f9f2a",
   "metadata": {},
   "source": [
    "Il est maintenant possible de représenter les données sur le premier plan factoriel. Dans ce graphique, il est important de noter le pourcentage de variance expliquée."
   ]
  },
  {
   "cell_type": "code",
   "execution_count": 19,
   "id": "8032912e",
   "metadata": {},
   "outputs": [
    {
     "data": {
      "text/plain": [
       "<matplotlib.collections.PathCollection at 0x7f8293cc36d0>"
      ]
     },
     "execution_count": 19,
     "metadata": {},
     "output_type": "execute_result"
    },
    {
     "data": {
      "image/png": "[encoded data removed]",
      "text/plain": [
       "<Figure size 640x480 with 1 Axes>"
      ]
     },
     "metadata": {},
     "output_type": "display_data"
    }
   ],
   "source": [
    "plt.figure\n",
    "plt.title(\"Affichage dans le plan C1,C2\")\n",
    "cols=['C0','C1','C2','C3','C4','C5']\n",
    "\n",
    "\n",
    "plt.scatter(x[:,0], x[:,1],c=nums,s=47,label=labels)"
   ]
  },
  {
   "cell_type": "markdown",
   "id": "2ae1a12f",
   "metadata": {},
   "source": [
    "Dans ce même graphique, on veut repérer les individus aux extrêmes. Ci-dessous, nous affichons donc les noms des pays ayant des valeurs absolues élevées pour chaque composante"
   ]
  },
  {
   "cell_type": "code",
   "execution_count": null,
   "id": "4d948e2f",
   "metadata": {},
   "outputs": [],
   "source": []
  },
  {
   "cell_type": "markdown",
   "id": "b1cf8d52",
   "metadata": {},
   "source": [
    "On pourrait aussi se demander s'il y a un effet continent. Pour cela, nous allons colorer les points en fonction de leur continent donc.\n",
    "\n"
   ]
  },
  {
   "cell_type": "code",
   "execution_count": null,
   "id": "afeb7b5a",
   "metadata": {},
   "outputs": [],
   "source": []
  },
  {
   "cell_type": "markdown",
   "id": "2272910e",
   "metadata": {},
   "source": [
    "Une fois qu'on a associé une couleur à chaque continent, on peut utiliser ce dictionnaire comme ci-dessous\n",
    "\n"
   ]
  },
  {
   "cell_type": "code",
   "execution_count": null,
   "id": "713ee15d",
   "metadata": {},
   "outputs": [],
   "source": []
  },
  {
   "cell_type": "markdown",
   "id": "7d0f7719",
   "metadata": {},
   "source": [
    "Il est aussi possible de différencier l'affichage de ce premier plan par continent."
   ]
  },
  {
   "cell_type": "code",
   "execution_count": null,
   "id": "046ae9f8",
   "metadata": {},
   "outputs": [],
   "source": []
  },
  {
   "cell_type": "markdown",
   "id": "0ba87342",
   "metadata": {},
   "source": [
    "# Représentation des variables¶\n"
   ]
  },
  {
   "cell_type": "markdown",
   "id": "e5455a6c",
   "metadata": {},
   "source": [
    "Lorsqu'on réalise une ACP, surtout dans un contexte exploratoire (et non de compression), il est absolument nécessaire de décrire les axesà partir des variables, afin de comprendre ce qu'ils représentent. Pour cela, nous devons réaliser le cercle des corrélations. Malheureusement, il faut le réaliser à la main."
   ]
  },
  {
   "cell_type": "code",
   "execution_count": null,
   "id": "bdebc2e7",
   "metadata": {},
   "outputs": [],
   "source": []
  },
  {
   "cell_type": "markdown",
   "id": "aa82dde3",
   "metadata": {},
   "source": [
    "Une fois ces coordonnées récupérées, on peut donc afficher ce cercle des corrélations comme ci-dessous.\n",
    "\n"
   ]
  },
  {
   "cell_type": "code",
   "execution_count": null,
   "id": "ad005d55",
   "metadata": {},
   "outputs": [],
   "source": []
  }
 ],
 "metadata": {
  "kernelspec": {
   "display_name": "Python 3.8.10 64-bit",
   "language": "python",
   "name": "python3"
  },
  "language_info": {
   "codemirror_mode": {
    "name": "ipython",
    "version": 3
   },
   "file_extension": ".py",
   "mimetype": "text/x-python",
   "name": "python",
   "nbconvert_exporter": "python",
   "pygments_lexer": "ipython3",
   "version": "3.8.10"
  },
  "vscode": {
   "interpreter": {
    "hash": "916dbcbb3f70747c44a77c7bcd40155683ae19c65e1c03b4aa3499c5328201f1"
   }
  }
 },
 "nbformat": 4,
 "nbformat_minor": 5
}
